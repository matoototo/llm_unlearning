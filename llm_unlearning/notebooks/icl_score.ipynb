{
 "cells": [
  {
   "cell_type": "code",
   "execution_count": null,
   "metadata": {},
   "outputs": [],
   "source": [
    "import torch\n",
    "from omegaconf import OmegaConf\n",
    "from torch.utils.data import DataLoader\n",
    "from tqdm import tqdm\n",
    "import matplotlib.pyplot as plt\n",
    "\n",
    "from llm_unlearning.models.models import load_model_and_tokenizer\n",
    "\n",
    "import llm_unlearning.unlearning_datasets.wmdp\n",
    "from llm_unlearning.unlearning_datasets.wmdp import WikiTextDataset\n",
    "\n",
    "model_path = \"locuslab/tofu_ft_phi-1.5\"\n",
    "\n",
    "config = OmegaConf.create({\"path\": model_path, \"tokenizer_path\": \"microsoft/phi-1_5\", \"fp16\": True})\n",
    "model, tokenizer = load_model_and_tokenizer(config)\n",
    "model = model.to('cuda' if torch.cuda.is_available() else 'cpu')\n",
    "model.eval()"
   ]
  },
  {
   "cell_type": "code",
   "execution_count": null,
   "metadata": {},
   "outputs": [],
   "source": [
    "import importlib\n",
    "importlib.reload(llm_unlearning.unlearning_datasets.wmdp)\n",
    "\n",
    "num_samples = 10000\n",
    "\n",
    "dummy_config = OmegaConf.create({\n",
    "    \"max_length\": 512\n",
    "})\n",
    "\n",
    "dataset = WikiTextDataset(tokenizer, dummy_config, full_context_mode=True, num_samples=num_samples)\n",
    "\n",
    "dataloader = DataLoader(dataset, batch_size=1, shuffle=True, collate_fn=WikiTextDataset.collate_fn)\n",
    "\n",
    "def compute_loss_for_tokens(logits, labels, token_positions):\n",
    "    losses = []\n",
    "    for position in token_positions:\n",
    "        loss = torch.nn.functional.cross_entropy(logits[:, position, :], labels[:, position])\n",
    "        losses.append(loss.item())\n",
    "    return losses"
   ]
  },
  {
   "cell_type": "code",
   "execution_count": null,
   "metadata": {},
   "outputs": [],
   "source": [
    "icl_scores = []\n",
    "fiftyth_token_losses = []\n",
    "five_hundredth_token_losses = []\n",
    "\n",
    "with torch.no_grad():\n",
    "    for i, batch in enumerate(tqdm(dataloader, total=num_samples)):\n",
    "        if i >= num_samples:\n",
    "            break\n",
    "\n",
    "        inputs = {k: v.to(model.device) for k, v in batch.items()}\n",
    "\n",
    "        outputs = model(**inputs)\n",
    "        logits = outputs.logits\n",
    "        labels = inputs['labels']\n",
    "\n",
    "        losses = compute_loss_for_tokens(logits, labels, [49, 499])  # 0-based indexing\n",
    "\n",
    "        icl_score = losses[1] - losses[0]  # 500th token loss - 50th token loss\n",
    "        is_nan = icl_score != icl_score\n",
    "        if is_nan: continue\n",
    "\n",
    "        fiftyth_token_losses.append(losses[0])\n",
    "        five_hundredth_token_losses.append(losses[1])\n",
    "\n",
    "average_fifty = sum(fiftyth_token_losses) / len(fiftyth_token_losses)\n",
    "icl_scores = [five_hundredth - average_fifty for five_hundredth in five_hundredth_token_losses]\n",
    "average_icl_score = sum(icl_scores) / len(icl_scores)\n",
    "\n",
    "print(f\"Average In-Context Learning Score: {average_icl_score:.4f}\")\n",
    "\n",
    "plt.figure(figsize=(12, 6))\n",
    "plt.hist(icl_scores, bins=30, edgecolor='black')\n",
    "plt.title(\"Distribution of In-Context Learning Scores\")\n",
    "plt.xlabel(\"ICL Score\")\n",
    "plt.ylabel(\"Frequency\")\n",
    "plt.axvline(average_icl_score, color='r', linestyle='dashed', linewidth=2, label=f'Mean: {average_icl_score:.4f}')\n",
    "plt.legend()\n",
    "plt.show()"
   ]
  }
 ],
 "metadata": {
  "kernelspec": {
   "display_name": ".venv",
   "language": "python",
   "name": "python3"
  },
  "language_info": {
   "name": "python",
   "version": "3.12.3"
  }
 },
 "nbformat": 4,
 "nbformat_minor": 2
}
